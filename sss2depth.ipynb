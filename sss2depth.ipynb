{
 "cells": [
  {
   "cell_type": "markdown",
   "metadata": {
    "colab_type": "text",
    "id": "view-in-github"
   },
   "source": [
    "<a href=\"https://colab.research.google.com/github/bkkaggle/pytorch-CycleGAN-and-pix2pix/blob/master/pix2pix.ipynb\" target=\"_parent\"><img src=\"https://colab.research.google.com/assets/colab-badge.svg\" alt=\"Open In Colab\"/></a>"
   ]
  },
  {
   "cell_type": "code",
   "execution_count": null,
   "metadata": {
    "colab": {},
    "colab_type": "code",
    "id": "TRm-USlsHgEV"
   },
   "outputs": [],
   "source": []
  },
  {
   "cell_type": "code",
   "execution_count": null,
   "metadata": {
    "colab": {},
    "colab_type": "code",
    "id": "Pt3igws3eiVp"
   },
   "outputs": [],
   "source": []
  },
  {
   "cell_type": "code",
   "execution_count": null,
   "metadata": {
    "colab": {},
    "colab_type": "code",
    "id": "z1EySlOXwwoa"
   },
   "outputs": [],
   "source": []
  },
  {
   "cell_type": "markdown",
   "metadata": {
    "colab": {},
    "colab_type": "code",
    "id": "vrdOettJxaCc"
   },
   "source": [
    "# Visdom Server\n",
    "Start the visdom server first"
   ]
  },
  {
   "cell_type": "code",
   "execution_count": 18,
   "metadata": {
    "colab": {},
    "colab_type": "code",
    "id": "GC2DEP4M0OsS"
   },
   "outputs": [
    {
     "name": "stdout",
     "output_type": "stream",
     "text": [
      "mean = -0.936, min = -1.000, max = -0.585, median = -0.956, std=0.059\n",
      "mean = 0.422, min = -0.106, max = 1.000, median = 0.116, std=0.474\n"
     ]
    }
   ],
   "source": [
    "# !python -m visdom.server --hostname=khazadum.csc.kth.se -port=9010  \n",
    "import numpy as np\n",
    "a = np.load('/local_storage/datasets/yipingx/prune_unfilled_norm_sep_256x256/train/0.npy')\n",
    "from util.util import print_numpy\n",
    "sss = a[:,:256]\n",
    "depth = a[:,256:]\n",
    "print_numpy(sss)\n",
    "print_numpy(depth)"
   ]
  },
  {
   "cell_type": "markdown",
   "metadata": {
    "colab_type": "text",
    "id": "yFw1kDQBx3LN"
   },
   "source": [
    "# Training\n",
    "\n",
    "-   `python train.py --dataroot ./datasets/facades --name facades_pix2pix --model pix2pix --direction BtoA`\n",
    "\n",
    "Change the `--dataroot` and `--name` to your own dataset's path and model's name. Use `--gpu_ids 0,1,..` to train on multiple GPUs and `--batch_size` to change the batch size. Add `--direction BtoA` if you want to train a model to transfrom from class B to A."
   ]
  },
  {
   "cell_type": "code",
   "execution_count": 15,
   "metadata": {
    "colab": {},
    "colab_type": "code",
    "id": "0sp7TCT2x9dB"
   },
   "outputs": [
    {
     "name": "stdout",
     "output_type": "stream",
     "text": [
      "python: can't open file 'train_load_data.py': [Errno 2] No such file or directory\n"
     ]
    }
   ],
   "source": [
    "!python train_load_data.py --dataroot=/local_storage/datasets/yipingx/prune_unfilled_norm_sep_256x256 --name=sss2depth_256x256 --model=sss2depth --direction=AtoB \\\n",
    "--niter=10 --niter_decay=10 --batch_size=4 --preprocess=none --input_nc=1 --output_nc=1 --num_threads=8 --display_server=khazadum.csc.kth.se \\\n",
    "--display_port=9010 --max_dataset_size=10 --display_id=1 --display_freq=1 --print_freq=1 --save_epoch_freq=1 --lambda_TV=0.0 --load_size=256 \\\n",
    "--no_dropout --no_flip --beta1=0.9 --ngf=32 --netG=resnet_7blocks"
   ]
  },
  {
   "cell_type": "markdown",
   "metadata": {
    "colab_type": "text",
    "id": "9UkcaFZiyASl"
   },
   "source": [
    "# Testing\n",
    "\n",
    "-   `python test.py --dataroot ./datasets/facades --direction BtoA --model pix2pix --name facades_pix2pix`\n",
    "\n",
    "Change the `--dataroot`, `--name`, and `--direction` to be consistent with your trained model's configuration and how you want to transform images.\n",
    "\n",
    "> from https://github.com/junyanz/pytorch-CycleGAN-and-pix2pix:\n",
    "> Note that we specified --direction BtoA as Facades dataset's A to B direction is photos to labels.\n",
    "\n",
    "> If you would like to apply a pre-trained model to a collection of input images (rather than image pairs), please use --model test option. See ./scripts/test_single.sh for how to apply a model to Facade label maps (stored in the directory facades/testB).\n",
    "\n",
    "> See a list of currently available models at ./scripts/download_pix2pix_model.sh"
   ]
  },
  {
   "cell_type": "code",
   "execution_count": 1,
   "metadata": {
    "colab": {},
    "colab_type": "code",
    "id": "mey7o6j-0368"
   },
   "outputs": [
    {
     "name": "stdout",
     "output_type": "stream",
     "text": [
      "sss2depth_256x256\n"
     ]
    }
   ],
   "source": [
    "!ls checkpoints/"
   ]
  },
  {
   "cell_type": "code",
   "execution_count": 12,
   "metadata": {
    "colab": {},
    "colab_type": "code",
    "id": "uCsKkEq0yGh0"
   },
   "outputs": [
    {
     "name": "stdout",
     "output_type": "stream",
     "text": [
      "----------------- Options ---------------\n",
      "             aspect_ratio: 1.0                           \n",
      "               batch_size: 1                             \n",
      "          checkpoints_dir: ./checkpoints                 \n",
      "                crop_size: 256                           \n",
      "                 dataroot: /local_storage/datasets/yipingx/prune_unfilled_norm_sep_256x256\t[default: None]\n",
      "             dataset_mode: aligned                       \n",
      "                direction: AtoB                          \n",
      "          display_winsize: 256                           \n",
      "                    epoch: best                          \t[default: latest]\n",
      "                     eval: True                          \n",
      "                  gpu_ids: 0                             \n",
      "                init_gain: 0.02                          \n",
      "                init_type: normal                        \n",
      "                 input_nc: 1                             \t[default: 3]\n",
      "                  isTrain: False                         \t[default: None]\n",
      "                load_iter: 0                             \t[default: 0]\n",
      "                load_size: 256                           \n",
      "         max_dataset_size: inf                           \n",
      "                    model: sss2depth                     \t[default: test]\n",
      "               n_layers_D: 3                             \n",
      "                     name: sss2depth_256x256             \t[default: experiment_name]\n",
      "                      ndf: 64                            \n",
      "                     netD: basic                         \n",
      "                     netG: resnet_7blocks                \n",
      "                      ngf: 32                            \t[default: 64]\n",
      "               no_dropout: True                          \t[default: False]\n",
      "                  no_flip: True                          \t[default: False]\n",
      "                     norm: instance                      \n",
      "                    ntest: inf                           \n",
      "                 num_test: 50                            \n",
      "              num_threads: 4                             \n",
      "                output_nc: 1                             \t[default: 3]\n",
      "                    phase: test                          \n",
      "               preprocess: resize_and_crop               \n",
      "              results_dir: ./results/                    \n",
      "           serial_batches: False                         \n",
      "                   suffix:                               \n",
      "                  verbose: False                         \n",
      "----------------- End -------------------\n",
      "dataset [AlignedDataset] was created\n",
      "initialize network with normal\n",
      "model [Sss2DepthModel] was created\n",
      "loading the model from ./checkpoints/sss2depth_256x256/best_net_G.pth\n",
      "---------- Networks initialized -------------\n",
      "[Network G] Total number of parameters : 2.254 M\n",
      "-----------------------------------------------\n",
      "creating web directory ./results/sss2depth_256x256/test_best\n",
      "processing (0000)-th image... ['/local_storage/datasets/yipingx/prune_unfilled_norm_sep_256x256/test/0.npy']\n",
      "processing (0001)-th image... ['/local_storage/datasets/yipingx/prune_unfilled_norm_sep_256x256/test/1.npy']\n",
      "processing (0002)-th image... ['/local_storage/datasets/yipingx/prune_unfilled_norm_sep_256x256/test/10.npy']\n",
      "processing (0003)-th image... ['/local_storage/datasets/yipingx/prune_unfilled_norm_sep_256x256/test/100.npy']\n",
      "processing (0004)-th image... ['/local_storage/datasets/yipingx/prune_unfilled_norm_sep_256x256/test/101.npy']\n",
      "processing (0005)-th image... ['/local_storage/datasets/yipingx/prune_unfilled_norm_sep_256x256/test/102.npy']\n",
      "processing (0006)-th image... ['/local_storage/datasets/yipingx/prune_unfilled_norm_sep_256x256/test/103.npy']\n",
      "processing (0007)-th image... ['/local_storage/datasets/yipingx/prune_unfilled_norm_sep_256x256/test/104.npy']\n",
      "processing (0008)-th image... ['/local_storage/datasets/yipingx/prune_unfilled_norm_sep_256x256/test/105.npy']\n",
      "processing (0009)-th image... ['/local_storage/datasets/yipingx/prune_unfilled_norm_sep_256x256/test/106.npy']\n",
      "processing (0010)-th image... ['/local_storage/datasets/yipingx/prune_unfilled_norm_sep_256x256/test/107.npy']\n",
      "processing (0011)-th image... ['/local_storage/datasets/yipingx/prune_unfilled_norm_sep_256x256/test/108.npy']\n",
      "processing (0012)-th image... ['/local_storage/datasets/yipingx/prune_unfilled_norm_sep_256x256/test/109.npy']\n",
      "processing (0013)-th image... ['/local_storage/datasets/yipingx/prune_unfilled_norm_sep_256x256/test/11.npy']\n",
      "processing (0014)-th image... ['/local_storage/datasets/yipingx/prune_unfilled_norm_sep_256x256/test/110.npy']\n",
      "processing (0015)-th image... ['/local_storage/datasets/yipingx/prune_unfilled_norm_sep_256x256/test/111.npy']\n",
      "processing (0016)-th image... ['/local_storage/datasets/yipingx/prune_unfilled_norm_sep_256x256/test/112.npy']\n",
      "processing (0017)-th image... ['/local_storage/datasets/yipingx/prune_unfilled_norm_sep_256x256/test/113.npy']\n",
      "processing (0018)-th image... ['/local_storage/datasets/yipingx/prune_unfilled_norm_sep_256x256/test/114.npy']\n",
      "processing (0019)-th image... ['/local_storage/datasets/yipingx/prune_unfilled_norm_sep_256x256/test/115.npy']\n",
      "processing (0020)-th image... ['/local_storage/datasets/yipingx/prune_unfilled_norm_sep_256x256/test/116.npy']\n",
      "processing (0021)-th image... ['/local_storage/datasets/yipingx/prune_unfilled_norm_sep_256x256/test/117.npy']\n",
      "processing (0022)-th image... ['/local_storage/datasets/yipingx/prune_unfilled_norm_sep_256x256/test/118.npy']\n",
      "processing (0023)-th image... ['/local_storage/datasets/yipingx/prune_unfilled_norm_sep_256x256/test/119.npy']\n",
      "processing (0024)-th image... ['/local_storage/datasets/yipingx/prune_unfilled_norm_sep_256x256/test/12.npy']\n",
      "processing (0025)-th image... ['/local_storage/datasets/yipingx/prune_unfilled_norm_sep_256x256/test/13.npy']\n",
      "processing (0026)-th image... ['/local_storage/datasets/yipingx/prune_unfilled_norm_sep_256x256/test/14.npy']\n",
      "processing (0027)-th image... ['/local_storage/datasets/yipingx/prune_unfilled_norm_sep_256x256/test/15.npy']\n",
      "processing (0028)-th image... ['/local_storage/datasets/yipingx/prune_unfilled_norm_sep_256x256/test/16.npy']\n",
      "processing (0029)-th image... ['/local_storage/datasets/yipingx/prune_unfilled_norm_sep_256x256/test/17.npy']\n",
      "processing (0030)-th image... ['/local_storage/datasets/yipingx/prune_unfilled_norm_sep_256x256/test/18.npy']\n",
      "processing (0031)-th image... ['/local_storage/datasets/yipingx/prune_unfilled_norm_sep_256x256/test/19.npy']\n",
      "processing (0032)-th image... ['/local_storage/datasets/yipingx/prune_unfilled_norm_sep_256x256/test/2.npy']\n",
      "processing (0033)-th image... ['/local_storage/datasets/yipingx/prune_unfilled_norm_sep_256x256/test/20.npy']\n",
      "processing (0034)-th image... ['/local_storage/datasets/yipingx/prune_unfilled_norm_sep_256x256/test/21.npy']\n",
      "processing (0035)-th image... ['/local_storage/datasets/yipingx/prune_unfilled_norm_sep_256x256/test/22.npy']\n",
      "processing (0036)-th image... ['/local_storage/datasets/yipingx/prune_unfilled_norm_sep_256x256/test/23.npy']\n",
      "processing (0037)-th image... ['/local_storage/datasets/yipingx/prune_unfilled_norm_sep_256x256/test/24.npy']\n",
      "processing (0038)-th image... ['/local_storage/datasets/yipingx/prune_unfilled_norm_sep_256x256/test/25.npy']\n",
      "processing (0039)-th image... ['/local_storage/datasets/yipingx/prune_unfilled_norm_sep_256x256/test/26.npy']\n",
      "processing (0040)-th image... ['/local_storage/datasets/yipingx/prune_unfilled_norm_sep_256x256/test/27.npy']\n",
      "processing (0041)-th image... ['/local_storage/datasets/yipingx/prune_unfilled_norm_sep_256x256/test/28.npy']\n",
      "processing (0042)-th image... ['/local_storage/datasets/yipingx/prune_unfilled_norm_sep_256x256/test/29.npy']\n",
      "processing (0043)-th image... ['/local_storage/datasets/yipingx/prune_unfilled_norm_sep_256x256/test/3.npy']\n",
      "processing (0044)-th image... ['/local_storage/datasets/yipingx/prune_unfilled_norm_sep_256x256/test/30.npy']\n",
      "processing (0045)-th image... ['/local_storage/datasets/yipingx/prune_unfilled_norm_sep_256x256/test/31.npy']\n",
      "processing (0046)-th image... ['/local_storage/datasets/yipingx/prune_unfilled_norm_sep_256x256/test/32.npy']\n",
      "processing (0047)-th image... ['/local_storage/datasets/yipingx/prune_unfilled_norm_sep_256x256/test/33.npy']\n",
      "processing (0048)-th image... ['/local_storage/datasets/yipingx/prune_unfilled_norm_sep_256x256/test/34.npy']\n",
      "processing (0049)-th image... ['/local_storage/datasets/yipingx/prune_unfilled_norm_sep_256x256/test/35.npy']\n",
      "saving the model at the end of epoch:  best\n",
      "i+1 is:  50\n",
      "(test phase) abs_rel: 0.014 sq_rel: 0.000 rmse: 0.271 rmse_log10: 0.007 mae: 0.221 mae_log10: 0.006 a1: 0.952 a2: 0.977 a3: 0.979 \n"
     ]
    }
   ],
   "source": [
    "!python test_sss2depth_m2m.py --dataroot=/local_storage/datasets/yipingx/prune_unfilled_norm_sep_256x256 --direction=AtoB --model=sss2depth --name sss2depth_256x256 --output_nc=1 --ngf=32 --no_dropout --no_flip --epoch=best --input_nc=1 "
   ]
  },
  {
   "cell_type": "markdown",
   "metadata": {
    "colab_type": "text",
    "id": "OzSKIPUByfiN"
   },
   "source": [
    "# Train not square images"
   ]
  },
  {
   "cell_type": "code",
   "execution_count": 16,
   "metadata": {},
   "outputs": [
    {
     "name": "stdout",
     "output_type": "stream",
     "text": [
      "----------------- Options ---------------\n",
      "               batch_size: 4                             \t[default: 1]\n",
      "                    beta1: 0.9                           \t[default: 0.5]\n",
      "          checkpoints_dir: ./checkpoints                 \n",
      "           continue_train: False                         \n",
      "                crop_size: 256                           \n",
      "                 dataroot: /local_storage/datasets/yipingx/prune_unfilled_norm_sep_256x256\t[default: None]\n",
      "             dataset_mode: aligned                       \n",
      "                direction: AtoB                          \n",
      "              display_env: main                          \n",
      "             display_freq: 1                             \t[default: 400]\n",
      "               display_id: 1                             \n",
      "            display_ncols: 4                             \n",
      "             display_port: 9010                          \t[default: 8097]\n",
      "           display_server: khazadum.csc.kth.se           \t[default: http://localhost]\n",
      "          display_winsize: 256                           \n",
      "                    epoch: latest                        \n",
      "              epoch_count: 1                             \n",
      "                 gan_mode: none                          \n",
      "                  gpu_ids: 0                             \n",
      "                init_gain: 0.02                          \n",
      "                init_type: normal                        \n",
      "                 input_nc: 1                             \t[default: 3]\n",
      "                  isTrain: True                          \t[default: None]\n",
      "                lambda_TV: 0.0                           \t[default: 1e-06]\n",
      "                load_iter: 0                             \t[default: 0]\n",
      "                load_size: 256                           \t[default: 286]\n",
      "                       lr: 0.0002                        \n",
      "           lr_decay_iters: 50                            \n",
      "                lr_policy: linear                        \n",
      "         max_dataset_size: 10                            \t[default: inf]\n",
      "                    model: sss2depth                     \t[default: cycle_gan]\n",
      "               n_layers_D: 3                             \n",
      "                     name: sss2depth_128x256             \t[default: experiment_name]\n",
      "                      ndf: 64                            \n",
      "                     netD: basic                         \n",
      "                     netG: resnet_7blocks                \n",
      "                      ngf: 32                            \t[default: 64]\n",
      "                    niter: 2                             \t[default: 100]\n",
      "              niter_decay: 4                             \t[default: 100]\n",
      "               no_dropout: True                          \t[default: False]\n",
      "                  no_flip: True                          \t[default: False]\n",
      "                  no_html: False                         \n",
      "                     norm: instance                      \n",
      "              num_threads: 8                             \t[default: 4]\n",
      "                output_nc: 1                             \t[default: 3]\n",
      "                    phase: train                         \n",
      "                pool_size: 0                             \n",
      "               preprocess: none                          \t[default: resize_and_crop]\n",
      "               print_freq: 1                             \t[default: 100]\n",
      "             save_by_iter: False                         \n",
      "          save_epoch_freq: 1                             \t[default: 5]\n",
      "         save_latest_freq: 5000                          \n",
      "           serial_batches: False                         \n",
      "                   suffix:                               \n",
      "         update_html_freq: 1000                          \n",
      "                  verbose: False                         \n",
      "----------------- End -------------------\n",
      "dataset [AlignedDataset] was created\n",
      "The number of training images = 10\n",
      "initialize network with normal\n",
      "model [Sss2DepthModel] was created\n",
      "---------- Networks initialized -------------\n",
      "[Network G] Total number of parameters : 2.254 M\n",
      "-----------------------------------------------\n",
      "Setting up a new session...\n",
      "create web directory ./checkpoints/sss2depth_128x256/web...\n",
      "----------------- Options ---------------\n",
      "               batch_size: 4                             \t[default: 1]\n",
      "                    beta1: 0.9                           \t[default: 0.5]\n",
      "          checkpoints_dir: ./checkpoints                 \n",
      "           continue_train: False                         \n",
      "                crop_size: 256                           \n",
      "                 dataroot: /local_storage/datasets/yipingx/prune_unfilled_norm_sep_256x256\t[default: None]\n",
      "             dataset_mode: aligned                       \n",
      "                direction: AtoB                          \n",
      "              display_env: main                          \n",
      "             display_freq: 1                             \t[default: 400]\n",
      "               display_id: 1                             \n",
      "            display_ncols: 4                             \n",
      "             display_port: 9010                          \t[default: 8097]\n",
      "           display_server: khazadum.csc.kth.se           \t[default: http://localhost]\n",
      "          display_winsize: 256                           \n",
      "                    epoch: latest                        \n",
      "              epoch_count: 1                             \n",
      "                 gan_mode: none                          \n",
      "                  gpu_ids: 0                             \n",
      "                init_gain: 0.02                          \n",
      "                init_type: normal                        \n",
      "                 input_nc: 1                             \t[default: 3]\n",
      "                  isTrain: True                          \t[default: None]\n",
      "                lambda_TV: 0.0                           \t[default: 1e-06]\n",
      "                load_iter: 0                             \t[default: 0]\n",
      "                load_size: 256                           \t[default: 286]\n",
      "                       lr: 0.0002                        \n",
      "           lr_decay_iters: 50                            \n",
      "                lr_policy: linear                        \n",
      "         max_dataset_size: 10                            \t[default: inf]\n",
      "                    model: sss2depth                     \t[default: cycle_gan]\n",
      "               n_layers_D: 3                             \n",
      "                     name: sss2depth_128x256             \t[default: experiment_name]\n",
      "                      ndf: 64                            \n",
      "                     netD: basic                         \n",
      "                     netG: resnet_7blocks                \n",
      "                      ngf: 32                            \t[default: 64]\n",
      "                    niter: 2                             \t[default: 100]\n",
      "              niter_decay: 4                             \t[default: 100]\n",
      "               no_dropout: True                          \t[default: False]\n",
      "                  no_flip: True                          \t[default: False]\n",
      "                  no_html: False                         \n",
      "                     norm: instance                      \n",
      "              num_threads: 8                             \t[default: 4]\n",
      "                output_nc: 1                             \t[default: 3]\n",
      "                    phase: train                         \n",
      "                pool_size: 0                             \n",
      "               preprocess: none                          \t[default: resize_and_crop]\n",
      "               print_freq: 1                             \t[default: 100]\n",
      "             save_by_iter: False                         \n",
      "          save_epoch_freq: 1                             \t[default: 5]\n",
      "         save_latest_freq: 5000                          \n",
      "           serial_batches: False                         \n",
      "                   suffix:                               \n",
      "         update_html_freq: 1000                          \n",
      "                  verbose: False                         \n",
      "----------------- End -------------------\n",
      "dataset [AlignedDataset] was created\n",
      "Namespace(aspect_ratio=1.0, batch_size=2, beta1=0.9, checkpoints_dir='./checkpoints', continue_train=False, crop_size=256, dataroot='/local_storage/datasets/yipingx/prune_unfilled_norm_sep_256x256', dataset_mode='aligned', direction='AtoB', display_env='main', display_freq=1, display_id=-1, display_ncols=4, display_port=9010, display_server='khazadum.csc.kth.se', display_winsize=256, epoch='latest', epoch_count=1, gan_mode='none', gpu_ids=[0], init_gain=0.02, init_type='normal', input_nc=1, isTrain=False, lambda_TV=0.0, load_iter=0, load_size=256, lr=0.0002, lr_decay_iters=50, lr_policy='linear', max_dataset_size=10, model='sss2depth', n_layers_D=3, name='sss2depth_128x256', ndf=64, netD='basic', netG='resnet_7blocks', ngf=32, niter=2, niter_decay=4, no_dropout=True, no_flip=True, no_html=False, norm='instance', num_threads=1, output_nc=1, phase='val', pool_size=0, preprocess='none', print_freq=1, results_dir='./results/', save_by_iter=False, save_epoch_freq=1, save_latest_freq=5000, serial_batches=True, suffix='', update_html_freq=1000, verbose=False)\n",
      "(epoch: 1, iters: 4, time: 0.542, data: 0.248) TV: 0.000 G_L1: 5.864 \n",
      "(epoch: 1, iters: 8, time: 0.019, data: 0.002) TV: 0.000 G_L1: 5.742 \n",
      "(epoch: 1, iters: 12, time: 0.063, data: 0.002) TV: 0.000 G_L1: 4.571 \n",
      "saving the model at the end of epoch 1, iters 12\n",
      "(epoch: 1, iters: 12, time: 0.063, data: 0.002) abs_rel: 0.103 sq_rel: 0.000 rmse: 2.033 rmse_log10: 0.050 mae: 1.712 mae_log10: 0.042 a1: 0.328 a2: 0.580 a3: 0.765 \n",
      "saving the best model at the end of epoch 1, iters 12, mae 1.712\n",
      "End of epoch 1 / 6 \t Time Taken: 3 sec\n",
      "learning rate = 0.0002000\n",
      "(epoch: 2, iters: 4, time: 0.041, data: 0.334) TV: 0.000 G_L1: 5.611 \n",
      "(epoch: 2, iters: 8, time: 0.017, data: 0.000) TV: 0.000 G_L1: 4.204 \n",
      "(epoch: 2, iters: 12, time: 0.016, data: 0.000) TV: 0.000 G_L1: 3.051 \n",
      "saving the model at the end of epoch 2, iters 24\n",
      "(epoch: 2, iters: 12, time: 0.016, data: 0.000) abs_rel: 0.090 sq_rel: 0.000 rmse: 1.765 rmse_log10: 0.043 mae: 1.503 mae_log10: 0.037 a1: 0.340 a2: 0.655 a3: 0.837 \n",
      "saving the best model at the end of epoch 2, iters 24, mae 1.503\n",
      "End of epoch 2 / 6 \t Time Taken: 1 sec\n",
      "learning rate = 0.0001600\n",
      "(epoch: 3, iters: 4, time: 0.039, data: 0.315) TV: 0.000 G_L1: 3.793 \n",
      "(epoch: 3, iters: 8, time: 0.019, data: 0.002) TV: 0.000 G_L1: 4.408 \n",
      "(epoch: 3, iters: 12, time: 0.017, data: 0.002) TV: 0.000 G_L1: 2.542 \n",
      "saving the model at the end of epoch 3, iters 36\n",
      "(epoch: 3, iters: 12, time: 0.017, data: 0.002) abs_rel: 0.080 sq_rel: 0.000 rmse: 1.545 rmse_log10: 0.039 mae: 1.332 mae_log10: 0.034 a1: 0.377 a2: 0.706 a3: 0.858 \n",
      "saving the best model at the end of epoch 3, iters 36, mae 1.332\n",
      "End of epoch 3 / 6 \t Time Taken: 1 sec\n",
      "learning rate = 0.0001200\n",
      "(epoch: 4, iters: 4, time: 0.055, data: 0.306) TV: 0.000 G_L1: 3.952 \n",
      "(epoch: 4, iters: 8, time: 0.019, data: 0.002) TV: 0.000 G_L1: 2.857 \n",
      "(epoch: 4, iters: 12, time: 0.016, data: 0.003) TV: 0.000 G_L1: 3.378 \n",
      "saving the model at the end of epoch 4, iters 48\n",
      "(epoch: 4, iters: 12, time: 0.016, data: 0.003) abs_rel: 0.076 sq_rel: 0.000 rmse: 1.488 rmse_log10: 0.038 mae: 1.293 mae_log10: 0.033 a1: 0.345 a2: 0.722 a3: 0.893 \n",
      "saving the best model at the end of epoch 4, iters 48, mae 1.293\n",
      "End of epoch 4 / 6 \t Time Taken: 1 sec\n",
      "learning rate = 0.0000800\n",
      "(epoch: 5, iters: 4, time: 0.041, data: 0.310) TV: 0.000 G_L1: 2.704 \n",
      "(epoch: 5, iters: 8, time: 0.019, data: 0.001) TV: 0.000 G_L1: 4.345 \n",
      "(epoch: 5, iters: 12, time: 0.016, data: 0.002) TV: 0.000 G_L1: 1.803 \n",
      "saving the model at the end of epoch 5, iters 60\n",
      "(epoch: 5, iters: 12, time: 0.016, data: 0.002) abs_rel: 0.075 sq_rel: 0.000 rmse: 1.423 rmse_log10: 0.036 mae: 1.262 mae_log10: 0.032 a1: 0.324 a2: 0.736 a3: 0.924 \n",
      "saving the best model at the end of epoch 5, iters 60, mae 1.262\n",
      "End of epoch 5 / 6 \t Time Taken: 1 sec\n",
      "learning rate = 0.0000400\n",
      "(epoch: 6, iters: 4, time: 0.043, data: 0.324) TV: 0.000 G_L1: 3.744 \n",
      "(epoch: 6, iters: 8, time: 0.019, data: 0.000) TV: 0.000 G_L1: 3.141 \n",
      "(epoch: 6, iters: 12, time: 0.016, data: 0.002) TV: 0.000 G_L1: 1.601 \n",
      "saving the model at the end of epoch 6, iters 72\n",
      "(epoch: 6, iters: 12, time: 0.016, data: 0.002) abs_rel: 0.074 sq_rel: 0.000 rmse: 1.389 rmse_log10: 0.035 mae: 1.248 mae_log10: 0.032 a1: 0.316 a2: 0.743 a3: 0.929 \n",
      "saving the best model at the end of epoch 6, iters 72, mae 1.248\n",
      "End of epoch 6 / 6 \t Time Taken: 1 sec\n",
      "learning rate = 0.0000000\n"
     ]
    }
   ],
   "source": [
    "!python train_sss2depth_m2m.py --dataroot=/local_storage/datasets/yipingx/prune_unfilled_norm_sep_256x256 --name=sss2depth_128x256 --model=sss2depth --direction=AtoB \\\n",
    "--niter=2 --niter_decay=4 --batch_size=4 --preprocess=none --input_nc=1 --output_nc=1 --num_threads=8 --display_server=khazadum.csc.kth.se \\\n",
    "--display_port=9010 --max_dataset_size=10 --display_id=1 --display_freq=1 --print_freq=1 --save_epoch_freq=1 --lambda_TV=0.0 --load_size=256 \\\n",
    "--no_dropout --no_flip --beta1=0.9 --ngf=32 --netG=resnet_7blocks"
   ]
  },
  {
   "cell_type": "code",
   "execution_count": null,
   "metadata": {
    "colab": {},
    "colab_type": "code",
    "id": "9Mgg8raPyizq"
   },
   "outputs": [],
   "source": [
    "import matplotlib.pyplot as plt"
   ]
  },
  {
   "cell_type": "code",
   "execution_count": null,
   "metadata": {},
   "outputs": [],
   "source": []
  },
  {
   "cell_type": "code",
   "execution_count": null,
   "metadata": {
    "colab": {},
    "colab_type": "code",
    "id": "9Mgg8raPyizq"
   },
   "outputs": [],
   "source": [
    "img = plt.imread('./results/facades_label2photo_pretrained/test_latest/images/100_fake_B.png')\n",
    "plt.imshow(img)"
   ]
  },
  {
   "cell_type": "code",
   "execution_count": null,
   "metadata": {
    "colab": {},
    "colab_type": "code",
    "id": "0G3oVH9DyqLQ"
   },
   "outputs": [],
   "source": [
    "img = plt.imread('./results/facades_label2photo_pretrained/test_latest/images/100_real_A.png')\n",
    "plt.imshow(img)"
   ]
  },
  {
   "cell_type": "code",
   "execution_count": null,
   "metadata": {
    "colab": {},
    "colab_type": "code",
    "id": "ErK5OC1j1LH4"
   },
   "outputs": [],
   "source": [
    "img = plt.imread('./results/facades_label2photo_pretrained/test_latest/images/100_real_B.png')\n",
    "plt.imshow(img)"
   ]
  }
 ],
 "metadata": {
  "accelerator": "GPU",
  "colab": {
   "collapsed_sections": [],
   "include_colab_link": true,
   "name": "pix2pix",
   "provenance": []
  },
  "kernelspec": {
   "display_name": "Python 3",
   "language": "python",
   "name": "python3"
  },
  "language_info": {
   "codemirror_mode": {
    "name": "ipython",
    "version": 3
   },
   "file_extension": ".py",
   "mimetype": "text/x-python",
   "name": "python",
   "nbconvert_exporter": "python",
   "pygments_lexer": "ipython3",
   "version": "3.7.5"
  }
 },
 "nbformat": 4,
 "nbformat_minor": 4
}
